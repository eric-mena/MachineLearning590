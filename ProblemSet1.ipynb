{
 "cells": [
  {
   "cell_type": "markdown",
   "metadata": {},
   "source": [
    "# Problem Set 1"
   ]
  },
  {
   "cell_type": "markdown",
   "metadata": {},
   "source": [
    "## Problem 1: For Loop."
   ]
  },
  {
   "cell_type": "markdown",
   "metadata": {},
   "source": [
    "#### A: To print the numbers 0 to 100."
   ]
  },
  {
   "cell_type": "code",
   "execution_count": 1,
   "metadata": {},
   "outputs": [
    {
     "name": "stdout",
     "output_type": "stream",
     "text": [
      "0 1 2 3 4 5 6 7 8 9 10 11 12 13 14 15 16 17 18 19 20 21 22 23 24 25 26 27 28 29 30 31 32 33 34 35 36 37 38 39 40 41 42 43 44 45 46 47 48 49 50 51 52 53 54 55 56 57 58 59 60 61 62 63 64 65 66 67 68 69 70 71 72 73 74 75 76 77 78 79 80 81 82 83 84 85 86 87 88 89 90 91 92 93 94 95 96 97 98 99 100 "
     ]
    }
   ],
   "source": [
    "for i in range(101):\n",
    "    print(i, end = \" \")"
   ]
  },
  {
   "cell_type": "markdown",
   "metadata": {},
   "source": [
    "#### B: To print the numbers 0 to 100 that are divisible by 7."
   ]
  },
  {
   "cell_type": "code",
   "execution_count": 2,
   "metadata": {},
   "outputs": [
    {
     "name": "stdout",
     "output_type": "stream",
     "text": [
      "0 7 14 21 28 35 42 49 56 63 70 77 84 91 98 "
     ]
    }
   ],
   "source": [
    "for i in range(0, 101):\n",
    "    if i%7 == 0:\n",
    "        print(i, end = \" \")"
   ]
  },
  {
   "cell_type": "markdown",
   "metadata": {},
   "source": [
    "#### C: Print the numbers 1 to 100 that are divisible by 5, but not 3."
   ]
  },
  {
   "cell_type": "code",
   "execution_count": 3,
   "metadata": {},
   "outputs": [
    {
     "name": "stdout",
     "output_type": "stream",
     "text": [
      "5 10 20 25 35 40 50 55 65 70 80 85 95 "
     ]
    }
   ],
   "source": [
    "for i in range(0, 100):\n",
    "    if i%5 == 0:\n",
    "        if i%3 != 0:\n",
    "            print(i, end = \" \")"
   ]
  },
  {
   "cell_type": "markdown",
   "metadata": {},
   "source": [
    "#### D: Print for each of the numbers x = 2, ..., 20 all the numbers that divide x, excluding 1 and x. Hence, for 18, it should print: 2 3 6 9."
   ]
  },
  {
   "cell_type": "code",
   "execution_count": 4,
   "metadata": {},
   "outputs": [
    {
     "name": "stdout",
     "output_type": "stream",
     "text": [
      "Printing the numbers from 2 to 20, and their divisors (excluding 1, and itself):\n",
      "\n",
      "2\n",
      "Divisor(s): \n",
      "\n",
      "\n",
      "3\n",
      "Divisor(s): \n",
      "\n",
      "\n",
      "4\n",
      "Divisor(s): \n",
      "2 \n",
      "\n",
      "5\n",
      "Divisor(s): \n",
      "\n",
      "\n",
      "6\n",
      "Divisor(s): \n",
      "2 3 \n",
      "\n",
      "7\n",
      "Divisor(s): \n",
      "\n",
      "\n",
      "8\n",
      "Divisor(s): \n",
      "2 4 \n",
      "\n",
      "9\n",
      "Divisor(s): \n",
      "3 \n",
      "\n",
      "10\n",
      "Divisor(s): \n",
      "2 5 \n",
      "\n",
      "11\n",
      "Divisor(s): \n",
      "\n",
      "\n",
      "12\n",
      "Divisor(s): \n",
      "2 3 4 6 \n",
      "\n",
      "13\n",
      "Divisor(s): \n",
      "\n",
      "\n",
      "14\n",
      "Divisor(s): \n",
      "2 7 \n",
      "\n",
      "15\n",
      "Divisor(s): \n",
      "3 5 \n",
      "\n",
      "16\n",
      "Divisor(s): \n",
      "2 4 8 \n",
      "\n",
      "17\n",
      "Divisor(s): \n",
      "\n",
      "\n",
      "18\n",
      "Divisor(s): \n",
      "2 3 6 9 \n",
      "\n",
      "19\n",
      "Divisor(s): \n",
      "\n",
      "\n",
      "20\n",
      "Divisor(s): \n",
      "2 4 5 10 \n"
     ]
    }
   ],
   "source": [
    "print(\"Printing the numbers from 2 to 20, and their divisors (excluding 1, and itself):\")\n",
    "\n",
    "for i in range(2,21):\n",
    "    print(\"\\n\" + str(i))\n",
    "    print(\"Divisor(s): \")\n",
    "    for j in range(1, i+1):\n",
    "        if i%j == 0 and j != 1 and j != i:\n",
    "            print(str(j), end = \" \")\n",
    "    print()"
   ]
  },
  {
   "cell_type": "markdown",
   "metadata": {},
   "source": [
    "#### E: The smallest number that is divisible by 2, 3, and 4 is 12. Find the smallest number that is divisible by all the integers between 1 and 10."
   ]
  },
  {
   "cell_type": "code",
   "execution_count": 5,
   "metadata": {},
   "outputs": [
    {
     "name": "stdout",
     "output_type": "stream",
     "text": [
      "The smallest number that is divisible by the first 10 integers is: 2520\n"
     ]
    }
   ],
   "source": [
    "i = 1\n",
    "\n",
    "while True:\n",
    "    if i%1 == 0 and i%2 == 0 and i%3 == 0 and i%4 == 0 and i%5 == 0 and i%6 == 0 and i%7 == 0 and i%8 == 0 and i%9 == 0 and i%10 == 0:\n",
    "        print(\"The smallest number that is divisible by the first 10 integers is: \" + str(i))\n",
    "        break\n",
    "    else:\n",
    "        i += 1"
   ]
  },
  {
   "cell_type": "markdown",
   "metadata": {},
   "source": [
    "## Problem 2: Numpy"
   ]
  },
  {
   "cell_type": "code",
   "execution_count": 6,
   "metadata": {},
   "outputs": [],
   "source": [
    "#Generate: a 200 x 500 matrix A with random Gaussian entries, a 500 x 500 matrix B with Toeplitz entries.\n",
    "import numpy as np\n",
    "from scipy.linalg import toeplitz\n",
    "\n",
    "#Creating a 200x500 Gaussian matrix.\n",
    "A = np.random.normal(0, 1, (200, 500))\n",
    "\n",
    "#Creating a 500x500 Toeplitz matrix.\n",
    "sequence = np.arange(1, 501, 1)\n",
    "B = toeplitz(sequence, sequence)"
   ]
  },
  {
   "cell_type": "markdown",
   "metadata": {},
   "source": [
    "#### A1. Calculate $A$ $+$ $A$"
   ]
  },
  {
   "cell_type": "code",
   "execution_count": 7,
   "metadata": {},
   "outputs": [
    {
     "data": {
      "text/plain": [
       "array([[ 3.79823497,  0.58960818,  3.07977511, ..., -0.86120799,\n",
       "         0.1245517 ,  2.91595651],\n",
       "       [-2.28137926, -0.04580035,  0.14341908, ..., -2.93986347,\n",
       "        -3.7753106 , -0.2349667 ],\n",
       "       [-1.09825569, -0.41301178,  0.21689455, ...,  1.60590638,\n",
       "         0.58720967, -3.55912094],\n",
       "       ...,\n",
       "       [ 1.6895745 ,  2.92387284, -3.86113389, ...,  2.23998433,\n",
       "         1.49524734, -0.0477425 ],\n",
       "       [ 0.22698853,  0.48453927, -0.45114503, ..., -0.92614942,\n",
       "        -0.85850518, -1.07525714],\n",
       "       [ 0.54548495,  0.02061169,  2.59140516, ..., -1.49188264,\n",
       "         0.56533391,  0.0386275 ]])"
      ]
     },
     "execution_count": 7,
     "metadata": {},
     "output_type": "execute_result"
    }
   ],
   "source": [
    "A + A"
   ]
  },
  {
   "cell_type": "markdown",
   "metadata": {},
   "source": [
    "#### A3. Calculate $A$$A^{T}$"
   ]
  },
  {
   "cell_type": "code",
   "execution_count": 8,
   "metadata": {},
   "outputs": [
    {
     "data": {
      "text/plain": [
       "array([[ 4.94302503e+02, -1.22597094e+00,  1.44804526e+01, ...,\n",
       "        -6.94596246e-02, -2.49347061e+01,  1.38355664e+01],\n",
       "       [-1.22597094e+00,  5.04896195e+02, -2.74965943e+01, ...,\n",
       "        -3.14222202e+01, -3.55753385e+01, -4.75272359e+01],\n",
       "       [ 1.44804526e+01, -2.74965943e+01,  4.83084209e+02, ...,\n",
       "        -1.48110251e+01, -1.46439239e+01, -1.03455323e+01],\n",
       "       ...,\n",
       "       [-6.94596246e-02, -3.14222202e+01, -1.48110251e+01, ...,\n",
       "         4.97202063e+02, -2.65221464e+01, -1.52582374e+01],\n",
       "       [-2.49347061e+01, -3.55753385e+01, -1.46439239e+01, ...,\n",
       "        -2.65221464e+01,  4.55205636e+02,  1.46395198e+01],\n",
       "       [ 1.38355664e+01, -4.75272359e+01, -1.03455323e+01, ...,\n",
       "        -1.52582374e+01,  1.46395198e+01,  5.13199682e+02]])"
      ]
     },
     "execution_count": 8,
     "metadata": {},
     "output_type": "execute_result"
    }
   ],
   "source": [
    "A.dot(A.T)"
   ]
  },
  {
   "cell_type": "markdown",
   "metadata": {},
   "source": [
    "#### A3. Calculate $A^{T}$$A$"
   ]
  },
  {
   "cell_type": "code",
   "execution_count": 9,
   "metadata": {},
   "outputs": [
    {
     "data": {
      "text/plain": [
       "array([[193.0323962 ,   5.02369846,   4.08670036, ...,   5.03364956,\n",
       "         -7.79344989,  17.60920659],\n",
       "       [  5.02369846, 223.06797938,  30.55479976, ...,  -3.49566726,\n",
       "         15.57924445,  11.57403435],\n",
       "       [  4.08670036,  30.55479976, 181.7878885 , ...,   3.15407305,\n",
       "         -0.66270925, -10.48029472],\n",
       "       ...,\n",
       "       [  5.03364956,  -3.49566726,   3.15407305, ..., 214.29546639,\n",
       "          0.75419817,   3.36026282],\n",
       "       [ -7.79344989,  15.57924445,  -0.66270925, ...,   0.75419817,\n",
       "        208.14309527,  -5.58438051],\n",
       "       [ 17.60920659,  11.57403435, -10.48029472, ...,   3.36026282,\n",
       "         -5.58438051, 191.31675281]])"
      ]
     },
     "execution_count": 9,
     "metadata": {},
     "output_type": "execute_result"
    }
   ],
   "source": [
    "A.T.dot(A)"
   ]
  },
  {
   "cell_type": "markdown",
   "metadata": {},
   "source": [
    "#### A4. Calculate $A$$B$"
   ]
  },
  {
   "cell_type": "code",
   "execution_count": 10,
   "metadata": {},
   "outputs": [
    {
     "data": {
      "text/plain": [
       "array([[ -937.74454345,  -931.53893944,  -924.74372725, ...,\n",
       "         -257.57614553,  -263.02402279,  -268.34734835],\n",
       "       [  923.14687912,   927.5590412 ,   931.92540293, ...,\n",
       "        -4267.46925167, -4270.15251571, -4276.61109034],\n",
       "       [-4480.05626856, -4453.6140789 , -4427.58490103, ...,\n",
       "        -9269.15699054, -9293.72552461, -9317.70684901],\n",
       "       ...,\n",
       "       [-1180.41338315, -1178.82950354, -1174.32175109, ...,\n",
       "         1234.55489481,  1233.21308486,  1233.36652225],\n",
       "       [15605.83391821, 15554.91088644, 15504.47239392, ...,\n",
       "         9915.01719755,  9968.10098018, 10020.32625764],\n",
       "       [-5623.85024084, -5609.90609845, -5595.94134436, ...,\n",
       "        -1061.43723588, -1075.43985474, -1088.87713968]])"
      ]
     },
     "execution_count": 10,
     "metadata": {},
     "output_type": "execute_result"
    }
   ],
   "source": [
    "A.dot(B)"
   ]
  },
  {
   "cell_type": "markdown",
   "metadata": {},
   "source": [
    "#### B. Solving a linear system. Generate a vector b with 500 enties and solve $B$$x$ $=$ $b$"
   ]
  },
  {
   "cell_type": "code",
   "execution_count": 11,
   "metadata": {},
   "outputs": [
    {
     "data": {
      "text/plain": [
       "True"
      ]
     },
     "execution_count": 11,
     "metadata": {},
     "output_type": "execute_result"
    }
   ],
   "source": [
    "#Generating an array of 500 entries with values ranging from 0-500.\n",
    "b = np.random.randint(501, size = 500)\n",
    "#Solving for x.\n",
    "x = np.linalg.solve(B, b)\n",
    "\n",
    "#Checking the solution.\n",
    "np.allclose(np.dot(B, x), b)"
   ]
  },
  {
   "cell_type": "markdown",
   "metadata": {},
   "source": [
    "#### C. Nearest neighbor. Write a for loop that takes a value $z$ and an array $A$ and finds the element in $A$ that is closest to $z$.It should print the closest value, not the index. Hint: use the built-in functionality of Numpy rather than writing code to find this value manually. In particular, use brackets and argmin."
   ]
  },
  {
   "cell_type": "code",
   "execution_count": 25,
   "metadata": {},
   "outputs": [
    {
     "name": "stdout",
     "output_type": "stream",
     "text": [
      "The array A is: [ 1  2  3  4  5  6  7  8  9 10]\n"
     ]
    },
    {
     "name": "stdin",
     "output_type": "stream",
     "text": [
      "Enter a number:  2.1\n"
     ]
    },
    {
     "name": "stdout",
     "output_type": "stream",
     "text": [
      "You entered: 2.1\n",
      "The position of the closest value in A to your number is: 1\n",
      "The closest value in A to your number is: 2\n"
     ]
    }
   ],
   "source": [
    "#Generating an array of 10 entries from 1-10.\n",
    "A = np.arange(1, 11, 1)\n",
    "print(\"The array A is: \" + str(A))\n",
    "while True:\n",
    "    #Checking for a float.\n",
    "    try: \n",
    "        #Asking the user for a float.\n",
    "        z = float(input(\"Enter a number: \"))\n",
    "        if type(z) is float:\n",
    "            print(\"You entered: \" + str(z))\n",
    "            #Calculating an array of the distance between the values in A and the float z.\n",
    "            B = abs(A - z)\n",
    "            #Printing the position of the number closest to z.\n",
    "            print(\"The position of the closest value in A to your number is: \" + str(np.argmin(B)))\n",
    "            #Printing the number closest to z.\n",
    "            print(\"The closest value in A to your number is: \" + str(A[np.argmin(B)]))\n",
    "            break\n",
    "    except:\n",
    "        print(\"That wasn't a number. Try again. \")"
   ]
  },
  {
   "cell_type": "markdown",
   "metadata": {},
   "source": [
    "## Problem 3: Pandas"
   ]
  },
  {
   "cell_type": "markdown",
   "metadata": {},
   "source": [
    "#### Complete the exercises that we started during the class."
   ]
  },
  {
   "cell_type": "code",
   "execution_count": 35,
   "metadata": {},
   "outputs": [
    {
     "name": "stdout",
     "output_type": "stream",
     "text": [
      "The array A is: [ 1  2  3  4  5  6  7  8  9 10]\n"
     ]
    },
    {
     "name": "stdin",
     "output_type": "stream",
     "text": [
      "Enter a number:  4\n"
     ]
    },
    {
     "name": "stdout",
     "output_type": "stream",
     "text": [
      "You entered: 4.0\n",
      "The position of the closest value in A to your number is: 3\n",
      "The closest value in A to your number is: 4\n"
     ]
    }
   ],
   "source": [
    "#Generating an array of 10 entries from 1-10.\n",
    "A = np.arange(1, 11, 1)\n",
    "print(\"The array A is: \" + str(A))\n",
    "\n",
    "#Utilizing a while loop to repeatedly ask the user for a number until provided.\n",
    "while True:\n",
    "    try: \n",
    "        #Asking the user for a float.\n",
    "        z = float(input(\"Enter a number: \"))\n",
    "        if type(z) is float:\n",
    "            print(\"You entered: \" + str(z))\n",
    "            #Calculating an array of the distance between the values in A and the float z.\n",
    "            B = abs(A - z)\n",
    "            #Printing the position of the number closest to z.\n",
    "            print(\"The position of the closest value in A to your number is: \" + str(np.argmin(B)))\n",
    "            #Printing the number closest to z.\n",
    "            print(\"The closest value in A to your number is: \" + str(A[np.argmin(B)]))\n",
    "            break\n",
    "    except:\n",
    "        print(\"That wasn't a number. Try again. \")"
   ]
  },
  {
   "cell_type": "code",
   "execution_count": 32,
   "metadata": {},
   "outputs": [
    {
     "name": "stdout",
     "output_type": "stream",
     "text": [
      "The array A is: [ 1  2  3  4  5  6  7  8  9 10]\n"
     ]
    },
    {
     "name": "stdin",
     "output_type": "stream",
     "text": [
      "Enter a number:  3.4\n"
     ]
    },
    {
     "name": "stdout",
     "output_type": "stream",
     "text": [
      "You entered: 3.4\n",
      "That wasn't a number. Try again. \n"
     ]
    }
   ],
   "source": [
    "#Trying to implement a for loop into the code for no particular reason.\n",
    "\n",
    "\n",
    "#Generating an array of 10 entries from 1-10.\n",
    "A = np.arange(1, 11, 1)\n",
    "print(\"The array A is: \" + str(A))\n",
    "\n",
    "k = A[0]\n",
    "\n",
    "try: \n",
    "    #Asking the user for a float.\n",
    "    z = float(input(\"Enter a number: \"))\n",
    "    if type(z) is float:\n",
    "        print(\"You entered: \" + str(z))\n",
    "        #Calculating an array of the distance between the values in A and the float z.\n",
    "        for i in A:\n",
    "            j = abs(A[i] - z)\n",
    "            if k <= j:\n",
    "                k = j\n",
    "        #Printing the position of the number closest to z.\n",
    "        print(\"The position of the closest value in A to your number is: \" + str(np.argmin(B)))\n",
    "        #Printing the number closest to z.\n",
    "        print(\"The closest value in A to your number is: \" + str(A[np.argmin(B)]))\n",
    "        print(str(k))\n",
    "except:\n",
    "    print(\"That wasn't a number. Try again. \")"
   ]
  },
  {
   "cell_type": "code",
   "execution_count": null,
   "metadata": {},
   "outputs": [],
   "source": []
  }
 ],
 "metadata": {
  "kernelspec": {
   "display_name": "Python 3",
   "language": "python",
   "name": "python3"
  },
  "language_info": {
   "codemirror_mode": {
    "name": "ipython",
    "version": 3
   },
   "file_extension": ".py",
   "mimetype": "text/x-python",
   "name": "python",
   "nbconvert_exporter": "python",
   "pygments_lexer": "ipython3",
   "version": "3.8.3"
  }
 },
 "nbformat": 4,
 "nbformat_minor": 4
}
