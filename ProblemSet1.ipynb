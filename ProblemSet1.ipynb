{
 "cells": [
  {
   "cell_type": "markdown",
   "metadata": {},
   "source": [
    "# Problem Set 1"
   ]
  },
  {
   "cell_type": "markdown",
   "metadata": {},
   "source": [
    "## Problem 1: For Loop."
   ]
  },
  {
   "cell_type": "markdown",
   "metadata": {},
   "source": [
    "#### A: To print the numbers 0 to 100."
   ]
  },
  {
   "cell_type": "code",
   "execution_count": 125,
   "metadata": {},
   "outputs": [
    {
     "name": "stdout",
     "output_type": "stream",
     "text": [
      "0 1 2 3 4 5 6 7 8 9 10 11 12 13 14 15 16 17 18 19 20 21 22 23 24 25 26 27 28 29 30 31 32 33 34 35 36 37 38 39 40 41 42 43 44 45 46 47 48 49 50 51 52 53 54 55 56 57 58 59 60 61 62 63 64 65 66 67 68 69 70 71 72 73 74 75 76 77 78 79 80 81 82 83 84 85 86 87 88 89 90 91 92 93 94 95 96 97 98 99 100 "
     ]
    }
   ],
   "source": [
    "for i in range(101):\n",
    "    print(i, end = \" \")"
   ]
  },
  {
   "cell_type": "markdown",
   "metadata": {},
   "source": [
    "#### B: To print the numbers 0 to 100 that are divisible by 7."
   ]
  },
  {
   "cell_type": "code",
   "execution_count": 8,
   "metadata": {},
   "outputs": [
    {
     "name": "stdout",
     "output_type": "stream",
     "text": [
      "0 7 14 21 28 35 42 49 56 63 70 77 84 91 98 "
     ]
    }
   ],
   "source": [
    "for i in range(0, 101):\n",
    "    if i%7 == 0:\n",
    "        print(i, end = \" \")"
   ]
  },
  {
   "cell_type": "markdown",
   "metadata": {},
   "source": [
    "#### C: Print the numbers 1 to 100 that are divisible by 5, but not 3."
   ]
  },
  {
   "cell_type": "code",
   "execution_count": 32,
   "metadata": {},
   "outputs": [
    {
     "name": "stdout",
     "output_type": "stream",
     "text": [
      "5 10 20 25 35 40 50 55 65 70 80 85 95 "
     ]
    }
   ],
   "source": [
    "for i in range(0, 100):\n",
    "    if i%5 == 0:\n",
    "        if i%3 != 0:\n",
    "            print(i, end = \" \")"
   ]
  },
  {
   "cell_type": "markdown",
   "metadata": {},
   "source": [
    "#### D: Print for each of the numbers x = 2, ..., 20 all the numbers that divide x, excluding 1 and x. Hence, for 18, it should print: 2 3 6 9."
   ]
  },
  {
   "cell_type": "code",
   "execution_count": 106,
   "metadata": {},
   "outputs": [
    {
     "name": "stdout",
     "output_type": "stream",
     "text": [
      "Printing the numbers from 2 to 20, and their divisors (excluding 1, and itself):\n",
      "\n",
      "2\n",
      "Divisor(s): \n",
      "\n",
      "\n",
      "3\n",
      "Divisor(s): \n",
      "\n",
      "\n",
      "4\n",
      "Divisor(s): \n",
      "2 \n",
      "\n",
      "5\n",
      "Divisor(s): \n",
      "\n",
      "\n",
      "6\n",
      "Divisor(s): \n",
      "2 3 \n",
      "\n",
      "7\n",
      "Divisor(s): \n",
      "\n",
      "\n",
      "8\n",
      "Divisor(s): \n",
      "2 4 \n",
      "\n",
      "9\n",
      "Divisor(s): \n",
      "3 \n",
      "\n",
      "10\n",
      "Divisor(s): \n",
      "2 5 \n",
      "\n",
      "11\n",
      "Divisor(s): \n",
      "\n",
      "\n",
      "12\n",
      "Divisor(s): \n",
      "2 3 4 6 \n",
      "\n",
      "13\n",
      "Divisor(s): \n",
      "\n",
      "\n",
      "14\n",
      "Divisor(s): \n",
      "2 7 \n",
      "\n",
      "15\n",
      "Divisor(s): \n",
      "3 5 \n",
      "\n",
      "16\n",
      "Divisor(s): \n",
      "2 4 8 \n",
      "\n",
      "17\n",
      "Divisor(s): \n",
      "\n",
      "\n",
      "18\n",
      "Divisor(s): \n",
      "2 3 6 9 \n",
      "\n",
      "19\n",
      "Divisor(s): \n",
      "\n",
      "\n",
      "20\n",
      "Divisor(s): \n",
      "2 4 5 10 \n"
     ]
    }
   ],
   "source": [
    "print(\"Printing the numbers from 2 to 20, and their divisors (excluding 1, and itself):\")\n",
    "\n",
    "for i in range(2,21):\n",
    "    print(\"\\n\" + str(i))\n",
    "    print(\"Divisor(s): \")\n",
    "    for j in range(1, i+1):\n",
    "        if i%j == 0 and j != 1 and j != i:\n",
    "            print(str(j), end = \" \")\n",
    "    print()"
   ]
  },
  {
   "cell_type": "markdown",
   "metadata": {},
   "source": [
    "#### E: The smallest number that is divisible by 2, 3, and 4 is 12. Find the smallest number that is divisible by all the integers between 1 and 10."
   ]
  },
  {
   "cell_type": "code",
   "execution_count": 129,
   "metadata": {},
   "outputs": [
    {
     "name": "stdout",
     "output_type": "stream",
     "text": [
      "The smallest number that is divisible by the first 10 integers is: 2520\n"
     ]
    }
   ],
   "source": [
    "i = 1\n",
    "\n",
    "while True:\n",
    "    if i%1 == 0 and i%2 == 0 and i%3 == 0 and i%4 == 0 and i%5 == 0 and i%6 == 0 and i%7 == 0 and i%8 == 0 and i%9 == 0 and i%10 == 0:\n",
    "        print(\"The smallest number that is divisible by the first 10 integers is: \" + str(i))\n",
    "        break\n",
    "    else:\n",
    "        i += 1"
   ]
  },
  {
   "cell_type": "markdown",
   "metadata": {},
   "source": [
    "## Problem 2: Numpy"
   ]
  },
  {
   "cell_type": "code",
   "execution_count": 137,
   "metadata": {},
   "outputs": [],
   "source": [
    "#Generate: a 200 x 500 matrix A with random Gaussian entries, a 500 x 500 matrix B with Toeplitz entries.\n",
    "import numpy as np\n",
    "\n",
    "#Creating a 200x500 Gaussian matrix.\n",
    "A = np.random.normal(0, 1, (200, 500))\n",
    "\n",
    "#Creating a 500x500 Toeplitz matrix.\n"
   ]
  }
 ],
 "metadata": {
  "kernelspec": {
   "display_name": "Python 3",
   "language": "python",
   "name": "python3"
  },
  "language_info": {
   "codemirror_mode": {
    "name": "ipython",
    "version": 3
   },
   "file_extension": ".py",
   "mimetype": "text/x-python",
   "name": "python",
   "nbconvert_exporter": "python",
   "pygments_lexer": "ipython3",
   "version": "3.8.3"
  }
 },
 "nbformat": 4,
 "nbformat_minor": 4
}
